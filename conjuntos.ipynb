{
  "cells": [
    {
      "cell_type": "markdown",
      "metadata": {
        "id": "view-in-github",
        "colab_type": "text"
      },
      "source": [
        "<a href=\"https://colab.research.google.com/github/Newball12/tuplas2/blob/main/conjuntos.ipynb\" target=\"_parent\"><img src=\"https://colab.research.google.com/assets/colab-badge.svg\" alt=\"Open In Colab\"/></a>"
      ]
    },
    {
      "cell_type": "code",
      "source": [
        "conjunto1 = input(\"Introduce el primer conjunto de números, separados por comas: \").split(',')\n",
        "\n",
        "conjunto1 = set(map(int, conjunto1))\n",
        "\n",
        "\n",
        "conjunto2 = input(\"Introduce el segundo conjunto de números, separados por comas: \").split(',')\n",
        "\n",
        "conjunto2 = set(map(int, conjunto2))\n",
        "\n",
        "interseccion = conjunto1.intersection(conjunto2)\n",
        "\n",
        "print(\"Números en la intersección mayores que 10:\")\n",
        "for num in interseccion:\n",
        "  if num > 10:\n",
        "    print(num)"
      ],
      "metadata": {
        "colab": {
          "base_uri": "https://localhost:8080/"
        },
        "id": "H43s5uYlo4TK",
        "outputId": "d5c326b2-0338-475b-b009-3e9e2ca3dd6f"
      },
      "execution_count": 17,
      "outputs": [
        {
          "output_type": "stream",
          "name": "stdout",
          "text": [
            "Introduce el primer conjunto de números, separados por comas: 3,19,10,4,5 \n",
            "Introduce el segundo conjunto de números, separados por comas:  2,1,19,7,10\n",
            "Números en la intersección mayores que 10:\n",
            "19\n"
          ]
        }
      ]
    },
    {
      "cell_type": "code",
      "source": [
        "conjunto1 = input(\"Introduce el primer conjunto de palabras, separadas por comas: \").split(',')\n",
        "conjunto2 = input(\"Introduce el segundo conjunto de palabras, separadas por comas: \").split(',')\n",
        "\n",
        "conjunto1 = set(map(str.strip, conjunto1))\n",
        "conjunto2 = set(map(str.strip, conjunto2))\n",
        "\n",
        "\n",
        "interseccion = conjunto1.intersection(conjunto2)\n",
        "\n",
        "print(\"Palabras en ambos conjuntos:\")\n",
        "for palabra in interseccion:\n",
        "    print(palabra)"
      ],
      "metadata": {
        "colab": {
          "base_uri": "https://localhost:8080/"
        },
        "id": "kL7_3KBgpsFJ",
        "outputId": "8ee8750d-d802-4c9f-e21c-a81bfacb0b21"
      },
      "execution_count": 15,
      "outputs": [
        {
          "output_type": "stream",
          "name": "stdout",
          "text": [
            "Introduce el primer conjunto de palabras, separadas por comas: kd,nd,we\n",
            "Introduce el segundo conjunto de palabras, separadas por comas: nd,rd,qe\n",
            "Palabras en ambos conjuntos:\n",
            "nd\n"
          ]
        }
      ]
    },
    {
      "cell_type": "code",
      "source": [
        "conjunto1 = input(\"Introduce el primer conjunto de números, separados por comas: \").split(',')\n",
        "\n",
        "conjunto1 = set(map(int, conjunto1))\n",
        "\n",
        "conjunto2 = input(\"Introduce el segundo conjunto de números, separados por comas: \").split(',')\n",
        "\n",
        "conjunto2 = set(map(int, conjunto2))\n",
        "\n",
        "\n",
        "union = conjunto1.union(conjunto2)\n",
        "\n",
        "\n",
        "print(\"La unión de los dos conjuntos es:\", union)"
      ],
      "metadata": {
        "colab": {
          "base_uri": "https://localhost:8080/"
        },
        "id": "F-icLEBRsVq1",
        "outputId": "1ddb2919-853f-49ad-cbb4-2beb9b84a1f6"
      },
      "execution_count": 12,
      "outputs": [
        {
          "output_type": "stream",
          "name": "stdout",
          "text": [
            "Introduce el primer conjunto de números, separados por comas: 2,3,4,5,6\n",
            "Introduce el segundo conjunto de números, separados por comas: 3,4,6,8,9\n",
            "La unión de los dos conjuntos es: {2, 3, 4, 5, 6, 8, 9}\n"
          ]
        }
      ]
    }
  ],
  "metadata": {
    "colab": {
      "name": "Te damos la bienvenida a Colaboratory",
      "toc_visible": true,
      "provenance": [],
      "include_colab_link": true
    },
    "kernelspec": {
      "display_name": "Python 3",
      "name": "python3"
    }
  },
  "nbformat": 4,
  "nbformat_minor": 0
}