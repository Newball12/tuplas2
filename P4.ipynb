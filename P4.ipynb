{
  "cells": [
    {
      "cell_type": "markdown",
      "metadata": {
        "id": "view-in-github",
        "colab_type": "text"
      },
      "source": [
        "<a href=\"https://colab.research.google.com/github/Newball12/tuplas2/blob/main/P4.ipynb\" target=\"_parent\"><img src=\"https://colab.research.google.com/assets/colab-badge.svg\" alt=\"Open In Colab\"/></a>"
      ]
    },
    {
      "cell_type": "code",
      "source": [
        "from tkinter.constants import X\n",
        "import pandas as pd\n",
        "import nltk\n",
        "from nltk.tokenize import word_tokenize\n",
        "from nltk.corpus import stopwords\n",
        "from nltk.stem import WordNetLemmatizer\n",
        "from nltk.sentiment.vader import SentimentIntensityAnalyzer\n",
        "import string\n",
        "\n",
        "# Descargar recursos de NLTK si es necesario\n",
        "nltk.download('punkt')\n",
        "nltk.download('stopwords')\n",
        "nltk.download('wordnet')\n",
        "nltk.download('vader_lexicon')\n",
        "\n",
        "# Cargar los datos\n",
        "df = pd.read_csv('tweets_dataset.csv')\n",
        "\n",
        "# Función para limpiar y tokenizar un tweet\n",
        "def limpiar_tokenizar(texto):\n",
        "    # Tokenización\n",
        "    tokens = word_tokenize(texto)\n",
        "\n",
        "    # Convertir a minúsculas, eliminar stop words, puntuación y números\n",
        "    stop_words = set(stopwords.words('spanish'))\n",
        "    tokens = [token.lower() for token in tokens if token not in stop_words and token not in string.punctuation and not token.isdigit()]\n",
        "\n",
        "    # Lematización\n",
        "    lemmatizer = WordNetLemmatizer()\n",
        "    tokens = [lemmatizer.lemmatize(token) for token in tokens]\n",
        "\n",
        "    return tokens\n",
        "\n",
        "# Función para analizar el sentimiento\n",
        "def analizar_sentimiento(texto):\n",
        "    sia = SentimentIntensityAnalyzer()\n",
        "    sentiment = sia.polarity_scores(texto)\n",
        "    return sentiment['compound']\n",
        "\n",
        "# Aplicar la función de limpieza y tokenización\n",
        "df['tokens'] = df[\"texto\"].apply(limpiar_tokenizar)\n",
        "\n",
        "# Crear una nueva columna con los tokens unidos por espacios\n",
        "df['texto_limpio'] = df['tokens'].apply(lambda x: ' '.join(x))\n",
        "\n",
        "# Aplicar la función de análisis de sentimiento\n",
        "df['sentimiento'] = df['texto_limpio'].apply(analizar_sentimiento)\n",
        "\n",
        "# Clasificar los sentimientos\n",
        "df['polaridad'] = df['sentimiento'].apply(lambda x: 'positivo' if x > 0.05 else ('negativo' if x < -0.05 else 'neutral'))\n",
        "\n",
        "# Mostrar los primeros 5 resultados\n",
        "print(df.head())\n",
        "\n",
        "\n",
        "# Crear un DataFrame con los resultados del análisis de sentimiento\n",
        "resultados_sentimiento = df['polaridad'].value_counts().reset_index()\n",
        "resultados_sentimiento.columns = ['Polaridad_sentimientos','Conteo']\n",
        "\n",
        "# Calcular porcentajes y agregarlos al DataFrame\n",
        "resultados_sentimiento['Porcentaje'] = (resultados_sentimiento['Conteo'] / resultados_sentimiento['Conteo'].sum()) * 100\n",
        "resultados_sentimiento['Porcentaje'] = resultados_sentimiento['Porcentaje'].map('{:.2f}%'.format)\n",
        "\n",
        "# Mostrar la tabla\n",
        "print(resultados_sentimiento)\n",
        "\n",
        "\n",
        "\n",
        "\n"
      ],
      "metadata": {
        "colab": {
          "base_uri": "https://localhost:8080/"
        },
        "id": "9V0DuAHQCM9-",
        "outputId": "59c24671-bcae-4587-c0c4-78145c38cf8e"
      },
      "execution_count": 64,
      "outputs": [
        {
          "output_type": "stream",
          "name": "stderr",
          "text": [
            "[nltk_data] Downloading package punkt to /root/nltk_data...\n",
            "[nltk_data]   Package punkt is already up-to-date!\n",
            "[nltk_data] Downloading package stopwords to /root/nltk_data...\n",
            "[nltk_data]   Package stopwords is already up-to-date!\n",
            "[nltk_data] Downloading package wordnet to /root/nltk_data...\n",
            "[nltk_data]   Package wordnet is already up-to-date!\n",
            "[nltk_data] Downloading package vader_lexicon to /root/nltk_data...\n",
            "[nltk_data]   Package vader_lexicon is already up-to-date!\n"
          ]
        },
        {
          "output_type": "stream",
          "name": "stdout",
          "text": [
            "   id                                              texto                fecha  \\\n",
            "0   1       ¡Me encanta el nuevo producto! Es increíble.  2023-12-05 11:58:00   \n",
            "1   2  El producto no funciona como esperaba. Muy dec...  2023-12-19 21:44:00   \n",
            "2   3  El servicio al cliente fue pésimo, no volveré ...  2023-12-29 11:56:00   \n",
            "3   4  ¡Es un excelente producto, lo recomiendo total...  2023-12-04 11:53:00   \n",
            "4   5    Podría ser mejor, pero en general es aceptable.  2023-11-06 10:18:00   \n",
            "\n",
            "                                              tokens  \\\n",
            "0      [¡me, encanta, nuevo, producto, e, increíble]   \n",
            "1  [el, producto, funciona, esperaba, muy, decepc...   \n",
            "2  [el, servicio, cliente, pésimo, volveré, comprar]   \n",
            "3  [¡es, excelente, producto, recomiendo, totalme...   \n",
            "4           [podría, ser, mejor, general, aceptable]   \n",
            "\n",
            "                                     texto_limpio  sentimiento polaridad  \n",
            "0          ¡me encanta nuevo producto e increíble          0.0   neutral  \n",
            "1  el producto funciona esperaba muy decepcionado          0.0   neutral  \n",
            "2      el servicio cliente pésimo volveré comprar          0.0   neutral  \n",
            "3    ¡es excelente producto recomiendo totalmente          0.0   neutral  \n",
            "4              podría ser mejor general aceptable          0.0   neutral  \n",
            "  Polaridad_sentimientos  Conteo Porcentaje\n",
            "0                neutral     410     82.00%\n",
            "1               negativo      90     18.00%\n"
          ]
        }
      ]
    }
  ],
  "metadata": {
    "colab": {
      "name": "Te damos la bienvenida a Colaboratory",
      "provenance": [],
      "include_colab_link": true
    },
    "kernelspec": {
      "display_name": "Python 3",
      "name": "python3"
    }
  },
  "nbformat": 4,
  "nbformat_minor": 0
}