{
  "cells": [
    {
      "cell_type": "markdown",
      "metadata": {
        "id": "view-in-github",
        "colab_type": "text"
      },
      "source": [
        "<a href=\"https://colab.research.google.com/github/Newball12/tuplas2/blob/main/%20TAREA%20taller%20final%20Estructura%20de%20datos.ipynb\" target=\"_parent\"><img src=\"https://colab.research.google.com/assets/colab-badge.svg\" alt=\"Open In Colab\"/></a>"
      ]
    },
    {
      "cell_type": "markdown",
      "source": [
        "# **Ejercicio 1: Construcción de un Árbol**\n",
        "**Objetivo:** Practicar la construcción y representación de árboles binarios de búsqueda.\n"
      ],
      "metadata": {
        "id": "IOAOmRDvfzYn"
      }
    },
    {
      "cell_type": "code",
      "source": [
        "import matplotlib.pyplot as plt\n",
        "import networkx as nx\n",
        "\n",
        "class Node:\n",
        "    def __init__(self, data):\n",
        "        self.left = None\n",
        "        self.right = None\n",
        "        self.data = data\n",
        "\n",
        "def insert(root, node):\n",
        "    if root is None:\n",
        "        root = node\n",
        "    else:\n",
        "        if root.data < node.data:\n",
        "            if root.right is None:\n",
        "                root.right = node\n",
        "            else:\n",
        "                insert(root.right, node)\n",
        "        else:\n",
        "            if root.left is None:\n",
        "                root.left = node\n",
        "            else:\n",
        "                insert(root.left, node)\n",
        "\n",
        "def inorder(root):\n",
        "    if root:\n",
        "        inorder(root.left)\n",
        "        print(root.data, end=\" \")\n",
        "        inorder(root.right)\n",
        "\n",
        "def preorder(root):\n",
        "    if root:\n",
        "        print(root.data, end=\" \")\n",
        "        preorder(root.left)\n",
        "        preorder(root.right)\n",
        "\n",
        "def postorder(root):\n",
        "    if root:\n",
        "        postorder(root.left)\n",
        "        postorder(root.right)\n",
        "        print(root.data, end=\" \")\n",
        "\n",
        "def draw_tree(root):\n",
        "    G = nx.DiGraph()\n",
        "    nodes = []\n",
        "    edges = []\n",
        "\n",
        "    def add_node(node, parent=None):\n",
        "        nodes.append(node.data)\n",
        "        if parent:\n",
        "            edges.append((parent.data, node.data))\n",
        "        if node.left:\n",
        "            add_node(node.left, node)\n",
        "        if node.right:\n",
        "            add_node(node.right, node)\n",
        "\n",
        "    add_node(root)\n",
        "    G.add_nodes_from(nodes)\n",
        "    G.add_edges_from(edges)\n",
        "\n",
        "    pos = nx.nx_pydot.graphviz_layout(G, prog='dot')\n",
        "    nx.draw(G, pos, with_labels=True, arrows=True)\n",
        "    plt.show()\n",
        "\n",
        "# Valores del ejercicio\n",
        "values = [15, 6, 3, 9, 18, 20, 17]\n",
        "\n",
        "# Crear el árbol\n",
        "root = Node(values[0])\n",
        "for value in values[1:]:\n",
        "    insert(root, Node(value))\n",
        "\n",
        "# Recorridos\n",
        "print(\"Inorder:\")\n",
        "inorder(root)\n",
        "print(\"\\nPreorder:\")\n",
        "preorder(root)\n",
        "print(\"\\nPostorder:\")\n",
        "postorder(root)\n",
        "\n",
        "# Dibujar el árbol\n",
        "draw_tree(root)"
      ],
      "metadata": {
        "id": "3dJwiEjzKxya",
        "outputId": "ddf58e4c-65af-4875-ea1a-7651167b616f",
        "colab": {
          "base_uri": "https://localhost:8080/",
          "height": 625
        }
      },
      "execution_count": 9,
      "outputs": [
        {
          "output_type": "stream",
          "name": "stdout",
          "text": [
            "Inorder:\n",
            "3 6 9 15 17 18 20 \n",
            "Preorder:\n",
            "15 6 3 9 18 17 20 \n",
            "Postorder:\n",
            "3 9 6 17 20 18 15 "
          ]
        },
        {
          "output_type": "display_data",
          "data": {
            "text/plain": [
              "<Figure size 640x480 with 1 Axes>"
            ],
            "image/png": "[encoded data removed]"
          },
          "metadata": {}
        }
      ]
    },
    {
      "cell_type": "markdown",
      "source": [
        "# **Ejercicio 2: Validación de un Recorrido**\n",
        "**Objetivo:** Desarrollar una comprensión profunda de los recorridos y su relación con la estructura del árbol.\n",
        "\n",
        "# Explicación para reconstruir el árbol\n",
        "\n",
        "Para reconstruir un árbol binario:\n",
        "1. El recorrido Inorden define el orden de los nodos en el árbol (izquierdo -> raíz -> derecho).\n",
        "2. El recorrido Preorden (raíz -> izquierdo -> derecho) o Postorden (izquierdo -> derecho -> raíz) nos da\n",
        "   información adicional para identificar cómo se construye el árbol.\n",
        "\n",
        "Con Inorden y Preorden juntos, o Inorden y Postorden, podemos reconstruir el árbol completamente.\n",
        "\n",
        "\n"
      ],
      "metadata": {
        "id": "tIoXnB8FgVAr"
      }
    },
    {
      "cell_type": "code",
      "source": [
        "# Definición de la clase Nodo para el árbol binario\n",
        "class Nodo:\n",
        "    def __init__(self, valor):\n",
        "        self.valor = valor\n",
        "        self.izquierdo = None\n",
        "        self.derecho = None\n",
        "\n",
        "# Función para insertar valores en el árbol binario\n",
        "def insertar_en_arbol(raiz, valor):\n",
        "    if raiz is None:\n",
        "        return Nodo(valor)\n",
        "    if valor < raiz.valor:\n",
        "        raiz.izquierdo = insertar_en_arbol(raiz.izquierdo, valor)\n",
        "    else:\n",
        "        raiz.derecho = insertar_en_arbol(raiz.derecho, valor)\n",
        "    return raiz\n",
        "\n",
        "# Función para realizar el recorrido Inorden\n",
        "def recorrido_inorden(raiz):\n",
        "    if raiz is None:\n",
        "        return []\n",
        "    return recorrido_inorden(raiz.izquierdo) + [raiz.valor] + recorrido_inorden(raiz.derecho)\n",
        "\n",
        "# Función para realizar el recorrido Preorden\n",
        "def recorrido_preorden(raiz):\n",
        "    if raiz is None:\n",
        "        return []\n",
        "    return [raiz.valor] + recorrido_preorden(raiz.izquierdo) + recorrido_preorden(raiz.derecho)\n",
        "\n",
        "# Función para realizar el recorrido Postorden\n",
        "def recorrido_postorden(raiz):\n",
        "    if raiz is None:\n",
        "        return []\n",
        "    return recorrido_postorden(raiz.izquierdo) + recorrido_postorden(raiz.derecho) + [raiz.valor]\n",
        "\n",
        "# Construcción del árbol binario\n",
        "valores = [10, 5, 15, 2, 7, 12, 18]\n",
        "raiz = None\n",
        "for valor in valores:\n",
        "    raiz = insertar_en_arbol(raiz, valor)\n",
        "\n",
        "# Validación del recorrido Inorden\n",
        "print(\"Recorrido Inorden generado:\", recorrido_inorden(raiz))\n",
        "print(\"Recorrido Inorden esperado: [2, 5, 7, 10, 12, 15, 18]\")\n",
        "\n",
        "# Generación de los recorridos Preorden y Postorden\n",
        "print(\"Recorrido Preorden:\", recorrido_preorden(raiz))\n",
        "print(\"Recorrido Postorden:\", recorrido_postorden(raiz))\n"
      ],
      "metadata": {
        "colab": {
          "base_uri": "https://localhost:8080/"
        },
        "outputId": "acdea7b2-2d63-427e-df6a-37f226490dbf",
        "id": "Rl33-9gohHZC"
      },
      "execution_count": 11,
      "outputs": [
        {
          "output_type": "stream",
          "name": "stdout",
          "text": [
            "Recorrido Inorden generado: [2, 5, 7, 10, 12, 15, 18]\n",
            "Recorrido Inorden esperado: [2, 5, 7, 10, 12, 15, 18]\n",
            "Recorrido Preorden: [10, 5, 2, 7, 15, 12, 18]\n",
            "Recorrido Postorden: [2, 7, 5, 12, 18, 15, 10]\n"
          ]
        }
      ]
    },
    {
      "cell_type": "markdown",
      "source": [
        "# **Ejercicio 3: Identificación de Árboles**\n",
        "**Objetivo:** Explorar cómo los recorridos se pueden usar para reconstruir y validar árboles binarios."
      ],
      "metadata": {
        "id": "Bf_ttZ5Nhm2c"
      }
    },
    {
      "cell_type": "code",
      "source": [
        "import matplotlib.pyplot as plt\n",
        "import networkx as nx\n",
        "\n",
        "# Definición de la clase Nodo para el árbol binario\n",
        "class Nodo:\n",
        "    def __init__(self, valor):\n",
        "        self.valor = valor\n",
        "        self.izquierdo = None\n",
        "        self.derecho = None\n",
        "\n",
        "# Función para reconstruir el árbol a partir de Preorden e Inorden\n",
        "def reconstruir_arbol(preorden, inorden):\n",
        "    if not preorden or not inorden:\n",
        "        return None\n",
        "    # La raíz es el primer elemento del Preorden\n",
        "    raiz_valor = preorden[0]\n",
        "    raiz = Nodo(raiz_valor)\n",
        "    # Encuentra la posición de la raíz en el Inorden\n",
        "    indice_raiz = inorden.index(raiz_valor)\n",
        "    # Elementos del subárbol izquierdo\n",
        "    inorden_izquierdo = inorden[:indice_raiz]\n",
        "    preorden_izquierdo = preorden[1:1 + len(inorden_izquierdo)]\n",
        "    # Elementos del subárbol derecho\n",
        "    inorden_derecho = inorden[indice_raiz + 1:]\n",
        "    preorden_derecho = preorden[1 + len(inorden_izquierdo):]\n",
        "    # Construcción recursiva de los subárboles\n",
        "    raiz.izquierdo = reconstruir_arbol(preorden_izquierdo, inorden_izquierdo)\n",
        "    raiz.derecho = reconstruir_arbol(preorden_derecho, inorden_derecho)\n",
        "    return raiz\n",
        "\n",
        "# Función para validar los recorridos generados\n",
        "def recorrido_inorden(raiz):\n",
        "    if raiz is None:\n",
        "        return []\n",
        "    return recorrido_inorden(raiz.izquierdo) + [raiz.valor] + recorrido_inorden(raiz.derecho)\n",
        "\n",
        "def recorrido_preorden(raiz):\n",
        "    if raiz is None:\n",
        "        return []\n",
        "    return [raiz.valor] + recorrido_preorden(raiz.izquierdo) + recorrido_preorden(raiz.derecho)\n",
        "\n",
        "# Función para graficar el árbol\n",
        "def graficar_arbol(raiz):\n",
        "    def agregar_nodos_aristas(nodo, grafo, pos, x=0, y=0, nivel=1):\n",
        "        if nodo:\n",
        "            grafo.add_node(nodo.valor, pos=(x, y))\n",
        "            if nodo.izquierdo:\n",
        "                grafo.add_edge(nodo.valor, nodo.izquierdo.valor)\n",
        "                agregar_nodos_aristas(nodo.izquierdo, grafo, pos, x - 1 / nivel, y - 1, nivel + 1)\n",
        "            if nodo.derecho:\n",
        "                grafo.add_edge(nodo.valor, nodo.derecho.valor)\n",
        "                agregar_nodos_aristas(nodo.derecho, grafo, pos, x + 1 / nivel, y - 1, nivel + 1)\n",
        "\n",
        "    grafo = nx.DiGraph()\n",
        "    pos = {}\n",
        "    agregar_nodos_aristas(raiz, grafo, pos)\n",
        "    pos = nx.get_node_attributes(grafo, 'pos')\n",
        "    nx.draw(grafo, pos, with_labels=True, node_size=1500, node_color=\"lightblue\", font_size=10, font_weight=\"bold\")\n",
        "    plt.show()\n",
        "\n",
        "# Datos del ejercicio\n",
        "preorden = [8, 3, 1, 6, 4, 7, 10, 14, 13]\n",
        "inorden = [1, 3, 4, 6, 7, 8, 10, 13, 14]\n",
        "\n",
        "# Reconstrucción del árbol\n",
        "raiz = reconstruir_arbol(preorden, inorden)\n",
        "\n",
        "# Validación de los recorridos\n",
        "print(\"Recorrido Preorden generado:\", recorrido_preorden(raiz))\n",
        "print(\"Recorrido Inorden generado:\", recorrido_inorden(raiz))\n",
        "\n",
        "# Graficar el árbol\n",
        "print(\"Árbol generado:\")\n",
        "graficar_arbol(raiz)\n"
      ],
      "metadata": {
        "id": "HBEeCjbje-Zs",
        "outputId": "19e3ac62-e9d7-4d53-c8af-c7a84e930f36",
        "colab": {
          "base_uri": "https://localhost:8080/",
          "height": 570
        }
      },
      "execution_count": 8,
      "outputs": [
        {
          "output_type": "stream",
          "name": "stdout",
          "text": [
            "Recorrido Preorden generado: [8, 3, 1, 6, 4, 7, 10, 14, 13]\n",
            "Recorrido Inorden generado: [1, 3, 4, 6, 7, 8, 10, 13, 14]\n",
            "Árbol generado:\n"
          ]
        },
        {
          "output_type": "display_data",
          "data": {
            "text/plain": [
              "<Figure size 640x480 with 1 Axes>"
            ],
            "image/png": "[encoded data removed]"
          },
          "metadata": {}
        }
      ]
    }
  ],
  "metadata": {
    "colab": {
      "name": "Te damos la bienvenida a Colaboratory",
      "toc_visible": true,
      "provenance": [],
      "include_colab_link": true
    },
    "kernelspec": {
      "display_name": "Python 3",
      "name": "python3"
    }
  },
  "nbformat": 4,
  "nbformat_minor": 0
}