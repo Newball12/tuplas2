{
  "cells": [
    {
      "cell_type": "markdown",
      "metadata": {
        "id": "view-in-github",
        "colab_type": "text"
      },
      "source": [
        "<a href=\"https://colab.research.google.com/github/Newball12/tuplas2/blob/main/Ejercicios_Quiz.ipynb\" target=\"_parent\"><img src=\"https://colab.research.google.com/assets/colab-badge.svg\" alt=\"Open In Colab\"/></a>"
      ]
    },
    {
      "cell_type": "markdown",
      "source": [
        "1. dada una lista de números [100,30,20], conviértela a una tupla y luego regresa la tupla a una lista. Imprimir la lista final."
      ],
      "metadata": {
        "id": "wa-4iojqqX4v"
      }
    },
    {
      "cell_type": "code",
      "source": [
        "# Lista original\n",
        "mi_lista = [100, 30, 20]\n",
        "\n",
        "# Convertir la lista a tupla\n",
        "mi_tupla = tuple(mi_lista)\n",
        "print(\"Tupla:\", mi_tupla)\n",
        "\n",
        "# Convertir la tupla de vuelta a lista\n",
        "mi_lista_nueva = list(mi_tupla)\n",
        "print(\"Lista final:\", mi_lista_nueva)"
      ],
      "metadata": {
        "colab": {
          "base_uri": "https://localhost:8080/"
        },
        "id": "cdHEtRPqnEgT",
        "outputId": "bb447b11-3278-40b0-8bdb-89a436acd250"
      },
      "execution_count": null,
      "outputs": [
        {
          "output_type": "stream",
          "name": "stdout",
          "text": [
            "Tupla: (100, 30, 20)\n",
            "Lista final: [100, 30, 20]\n"
          ]
        }
      ]
    },
    {
      "cell_type": "markdown",
      "source": [
        "2. Dada una tupla de camisas , debe crear un diccionario de precios por cada camisa. Luego almacene las camisas y precios y condicione si la lista de precios es mayor a 100."
      ],
      "metadata": {
        "id": "dcWb886RqTWo"
      }
    },
    {
      "cell_type": "code",
      "source": [
        "def crear_diccionario_precios(tupla_camisas, lista_precios):\n",
        "\n",
        "\n",
        "  if len(tupla_camisas) != len(lista_precios):\n",
        "    raise ValueError(\"La tupla de camisas y la lista de precios deben tener la misma longitud.\")\n",
        "\n",
        "  diccionario_precios = {}\n",
        "  for camisa, precio in zip(tupla_camisas, lista_precios):\n",
        "    diccionario_precios[camisa] = precio\n",
        "\n",
        "  return diccionario_precios\n",
        "\n",
        "# Ejemplo de uso:\n",
        "camisas = (\"camisa_roja\", \"camisa_azul\", \"camisa_blanca\")\n",
        "precios = [100, 120, 90]\n",
        "\n",
        "diccionario_final = crear_diccionario_precios(camisas, precios)\n",
        "\n",
        "# Condición para verificar si algún precio es mayor a 100\n",
        "if any(precio > 100 for precio in diccionario_final.values()):\n",
        "  print(\"Hay al menos una camisa con un precio mayor a 100.\")\n",
        "else:\n",
        "  print(\"Todas las camisas tienen un precio igual o menor a 100.\")\n",
        "\n",
        "print(diccionario_final)"
      ],
      "metadata": {
        "colab": {
          "base_uri": "https://localhost:8080/"
        },
        "id": "EVVxaFENnf9D",
        "outputId": "af04b97f-4118-44ae-c001-72ce0582a17e"
      },
      "execution_count": null,
      "outputs": [
        {
          "output_type": "stream",
          "name": "stdout",
          "text": [
            "Hay al menos una camisa con un precio mayor a 100.\n",
            "{'camisa_roja': 100, 'camisa_azul': 120, 'camisa_blanca': 90}\n"
          ]
        }
      ]
    },
    {
      "cell_type": "markdown",
      "source": [
        "3. Dada una lista de plalabras [\"manzana\", \"banana\", \"manzana\", \"pera\" , \"banana\"], cuenta cuántas veces aparece cada palabra y almacena los resultados."
      ],
      "metadata": {
        "id": "kutoQaj_qJqU"
      }
    },
    {
      "cell_type": "code",
      "source": [
        "def contar_palabras(lista_palabras):\n",
        "\n",
        "  conteo_palabras = {}\n",
        "  for palabra in lista_palabras:\n",
        "    if palabra in conteo_palabras:\n",
        "      conteo_palabras[palabra] += 1\n",
        "    else:\n",
        "      conteo_palabras[palabra] = 1\n",
        "  return conteo_palabras\n",
        "\n",
        "# Ejemplo:\n",
        "\n",
        "palabras = [\"manzana\", \"banana\", \"manzana\", \"pera\", \"banana\"]\n",
        "resultado = contar_palabras(palabras)\n",
        "print((resultado))"
      ],
      "metadata": {
        "colab": {
          "base_uri": "https://localhost:8080/"
        },
        "id": "OwbdQJlbn7fv",
        "outputId": "8b9b36e7-e360-40db-be15-00dbdec6a63e"
      },
      "execution_count": null,
      "outputs": [
        {
          "output_type": "stream",
          "name": "stdout",
          "text": [
            "{'manzana': 2, 'banana': 2, 'pera': 1}\n"
          ]
        }
      ]
    },
    {
      "cell_type": "markdown",
      "source": [
        "4. Crear un programa que permita al usuario almacenar datos enteros en una matriz y esos datos se sumen y luego realice su respectivo promedio."
      ],
      "metadata": {
        "id": "CpM95GS0qCWo"
      }
    },
    {
      "cell_type": "code",
      "source": [
        "# Crear una función para solicitar datos al usuario y formar la matriz\n",
        "def crear_matriz():\n",
        "    filas = int(input(\"Ingrese el número de filas: \"))\n",
        "    columnas = int(input(\"Ingrese el número de columnas: \"))\n",
        "\n",
        "    # Inicializar la matriz vacía\n",
        "    matriz = []\n",
        "\n",
        "    # Solicitar los datos de la matriz al usuario\n",
        "    for i in range(filas):\n",
        "        fila = []\n",
        "        for j in range(columnas):\n",
        "            numero = int(input(f\"Ingrese el número para la posición ({i+1},{j+1}): \"))\n",
        "            fila.append(numero)\n",
        "        matriz.append(fila)\n",
        "\n",
        "    return matriz\n",
        "\n",
        "# Función para calcular la suma y el promedio de los elementos de la matriz\n",
        "def calcular_suma_promedio(matriz):\n",
        "    suma = 0\n",
        "    total_elementos = 0\n",
        "\n",
        "    # Sumar todos los elementos de la matriz\n",
        "    for fila in matriz:\n",
        "        for elemento in fila:\n",
        "            suma += elemento\n",
        "            total_elementos += 1\n",
        "\n",
        "    promedio = suma / total_elementos if total_elementos > 0 else 0\n",
        "\n",
        "    return suma, promedio\n",
        "\n",
        "# Función principal\n",
        "def main():\n",
        "    print(\"Programa para almacenar datos en una matriz y calcular suma y promedio.\")\n",
        "\n",
        "    # Crear la matriz con los datos del usuario\n",
        "    matriz = crear_matriz()\n",
        "\n",
        "    # Calcular suma y promedio\n",
        "    suma, promedio = calcular_suma_promedio(matriz)\n",
        "\n",
        "    # Mostrar los resultados\n",
        "    print(f\"\\nLa suma de todos los elementos de la matriz es: {suma}\")\n",
        "    print(f\"El promedio de todos los elementos de la matriz es: {promedio:.2f}\")\n",
        "\n",
        "# Ejecutar el programa principal\n",
        "if __name__ == \"__main__\":\n",
        "    main()"
      ],
      "metadata": {
        "colab": {
          "base_uri": "https://localhost:8080/"
        },
        "id": "TK99PpMwo-u1",
        "outputId": "c6561437-b848-4540-ab23-d9bc96772093"
      },
      "execution_count": null,
      "outputs": [
        {
          "output_type": "stream",
          "name": "stdout",
          "text": [
            "Programa para almacenar datos en una matriz y calcular suma y promedio.\n",
            "Ingrese el número de filas: 2\n",
            "Ingrese el número de columnas: 2\n",
            "Ingrese el número para la posición (1,1): 1\n",
            "Ingrese el número para la posición (1,2): 2\n",
            "Ingrese el número para la posición (2,1): 3\n",
            "Ingrese el número para la posición (2,2): 2\n",
            "\n",
            "La suma de todos los elementos de la matriz es: 8\n",
            "El promedio de todos los elementos de la matriz es: 2.00\n"
          ]
        }
      ]
    },
    {
      "cell_type": "markdown",
      "source": [
        "5. Dada una lista de diccionarios que representan productos con su nombre y precio, calcula la suma total de los precios de todos los productos ."
      ],
      "metadata": {
        "id": "E10gogWjpxZI"
      }
    },
    {
      "cell_type": "code",
      "source": [
        "# Definir la lista de diccionarios que representa los productos\n",
        "productos = [\n",
        "    {\"nombre\": \"Producto A\", \"precio\": 10.50},\n",
        "    {\"nombre\": \"Producto B\", \"precio\": 20.75},\n",
        "    {\"nombre\": \"Producto C\", \"precio\": 5.99},\n",
        "    {\"nombre\": \"Producto D\", \"precio\": 12.30}\n",
        "]\n",
        "\n",
        "# Función para calcular la suma total de los precios\n",
        "def calcular_suma_total(productos):\n",
        "    suma_total = sum(producto[\"precio\"] for producto in productos)\n",
        "    return suma_total\n",
        "\n",
        "# Llamar a la función y mostrar el resultado\n",
        "suma_total = calcular_suma_total(productos)\n",
        "print(f\"La suma total de los precios de todos los productos es: ${suma_total:.2f}\")"
      ],
      "metadata": {
        "colab": {
          "base_uri": "https://localhost:8080/"
        },
        "id": "pGiOm5yrpuC6",
        "outputId": "3b4e6e9b-b499-444e-b796-fb771dd717c0"
      },
      "execution_count": null,
      "outputs": [
        {
          "output_type": "stream",
          "name": "stdout",
          "text": [
            "La suma total de los precios de todos los productos es: $49.54\n"
          ]
        }
      ]
    }
  ],
  "metadata": {
    "colab": {
      "name": "Te damos la bienvenida a Colaboratory",
      "toc_visible": true,
      "provenance": [],
      "include_colab_link": true
    },
    "kernelspec": {
      "display_name": "Python 3",
      "name": "python3"
    }
  },
  "nbformat": 4,
  "nbformat_minor": 0
}