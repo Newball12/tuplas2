{
  "cells": [
    {
      "cell_type": "markdown",
      "metadata": {
        "id": "view-in-github",
        "colab_type": "text"
      },
      "source": [
        "<a href=\"https://colab.research.google.com/github/Newball12/tuplas2/blob/main/Quiz_Colaboratory.ipynb\" target=\"_parent\"><img src=\"https://colab.research.google.com/assets/colab-badge.svg\" alt=\"Open In Colab\"/></a>"
      ]
    },
    {
      "cell_type": "code",
      "source": [
        "class Nodo:\n",
        "    def __init__(self, id, nombre, semestre, edad):\n",
        "        self.nombre = nombre  # Contiene el nombre, id, apellido, edad\n",
        "        self.id = id\n",
        "        self.semestre = semestre\n",
        "        self.edad = edad\n",
        "        self.siguiente = None  # Apunta al siguiente nodo\n",
        "        self.anterior = None  # Apunta al nodo anterior\n",
        "\n",
        "\n",
        "class ListaDoblementeEnlazada:\n",
        "    def __init__(self):\n",
        "        self.cabeza = None  # Inicializa la lista vacía\n",
        "\n",
        "    def insertar(self, id, nombre, semestre, edad):\n",
        "        nuevo_nodo = Nodo(id, nombre, semestre, edad)\n",
        "        if not self.cabeza:  # Si la lista está vacía\n",
        "            self.cabeza = nuevo_nodo\n",
        "        else:\n",
        "            actual = self.cabeza\n",
        "            while actual.siguiente:  # Recorre hasta el último nodo\n",
        "                actual = actual.siguiente\n",
        "            actual.siguiente = nuevo_nodo  # Establece el siguiente del último nodo\n",
        "            nuevo_nodo.anterior = actual  # Apunta al nodo anterior\n",
        "\n",
        "    def mostrar_adelante(self):\n",
        "        if not self.cabeza:\n",
        "            print(\"La lista está vacía.\")\n",
        "            return\n",
        "        actual = self.cabeza\n",
        "        while actual:\n",
        "            print(f\"Nombre: {actual.nombre}\", (f\"Id: {actual.id}\"), (f\"Semestre: {actual.semestre}\"),\n",
        "                  (f\"Edad: {actual.edad}\"), end=\" <-> \")\n",
        "            actual = actual.siguiente\n",
        "        print(\"None\")  # Indica el final de la lista\n",
        "\n",
        "    def mostrar_atras(self):\n",
        "        if not self.cabeza:\n",
        "            print(\"La lista está vacía.\")\n",
        "            return\n",
        "        actual = self.cabeza\n",
        "        while actual.siguiente:\n",
        "            actual = actual.siguiente\n",
        "        while actual:\n",
        "            print(f\"Nombre: {actual.nombre}\", (f\"Id: {actual.id}\"), (f\"Semestre: {actual.semestre}\"),\n",
        "                  (f\"Edad: {actual.edad}\"), end=\" <-> \")\n",
        "            actual = actual.anterior\n",
        "        print(\"None\")  # Indica el inicio de la lista\n",
        "\n",
        "    def ordenar(self):\n",
        "        if self.cabeza is None:\n",
        "            return\n",
        "\n",
        "        intercambiado = True\n",
        "        while intercambiado:\n",
        "            intercambiado = False\n",
        "            temp = self.cabeza\n",
        "\n",
        "            while temp.siguiente:\n",
        "                if temp.id > temp.siguiente.id:\n",
        "                    # Intercambiar nodos\n",
        "                    temp.id, temp.siguiente.id = temp.siguiente.id, temp.id\n",
        "                    temp.nombre, temp.siguiente.nombre = temp.siguiente.nombre, temp.nombre\n",
        "                    temp.semestre, temp.siguiente.semestre = temp.siguiente.semestre, temp.semestre\n",
        "                    temp.edad, temp.siguiente.edad = temp.siguiente.edad, temp.edad\n",
        "                    intercambiado = True\n",
        "                temp = temp.siguiente\n",
        "\n",
        "\n",
        "# Crear una lista doblemente enlazada\n",
        "lista_doble = ListaDoblementeEnlazada()\n",
        "\n",
        "# Insertar algunos elementos en la lista\n",
        "lista_doble.insertar(884847, 'Pedro', 'Sanchez', 35)\n",
        "lista_doble.insertar(254863, 'Julian', 'Salas', 20)\n",
        "lista_doble.insertar(546912, 'Daniel', 'Rodriguez', 66)\n",
        "\n",
        "# Mostrar la lista de adelante hacia atrás\n",
        "print(\"Lista de adelante hacia atrás:\")\n",
        "lista_doble.mostrar_adelante()\n",
        "\n",
        "lista_doble.ordenar()\n",
        "\n",
        "# Mostrar la lista de atrás hacia adelante\n",
        "print(\"\\nLista de atrás hacia adelante:\")\n",
        "lista_doble.mostrar_atras()"
      ],
      "metadata": {
        "colab": {
          "base_uri": "https://localhost:8080/"
        },
        "id": "YVtkPN1uEDJo",
        "outputId": "0d154860-5cd5-40d7-d2c5-f93c339cbd8a"
      },
      "execution_count": 8,
      "outputs": [
        {
          "output_type": "stream",
          "name": "stdout",
          "text": [
            "Lista de adelante hacia atrás:\n",
            "Nombre: Pedro Id: 884847 Semestre: Sanchez Edad: 35 <-> Nombre: Julian Id: 254863 Semestre: Salas Edad: 20 <-> Nombre: Daniel Id: 546912 Semestre: Rodriguez Edad: 66 <-> None\n",
            "\n",
            "Lista de atrás hacia adelante:\n",
            "Nombre: Pedro Id: 884847 Semestre: Sanchez Edad: 35 <-> Nombre: Daniel Id: 546912 Semestre: Rodriguez Edad: 66 <-> Nombre: Julian Id: 254863 Semestre: Salas Edad: 20 <-> None\n"
          ]
        }
      ]
    }
  ],
  "metadata": {
    "colab": {
      "name": "Te damos la bienvenida a Colaboratory",
      "toc_visible": true,
      "provenance": [],
      "include_colab_link": true
    },
    "kernelspec": {
      "display_name": "Python 3",
      "name": "python3"
    }
  },
  "nbformat": 4,
  "nbformat_minor": 0
}