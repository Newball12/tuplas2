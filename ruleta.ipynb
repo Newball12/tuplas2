{
  "cells": [
    {
      "cell_type": "markdown",
      "metadata": {
        "id": "view-in-github",
        "colab_type": "text"
      },
      "source": [
        "<a href=\"https://colab.research.google.com/github/Newball12/tuplas2/blob/main/ruleta.ipynb\" target=\"_parent\"><img src=\"https://colab.research.google.com/assets/colab-badge.svg\" alt=\"Open In Colab\"/></a>"
      ]
    },
    {
      "cell_type": "code",
      "source": [
        "import random\n",
        "\n",
        "def simular_ruleta():\n",
        "\n",
        "  #definir los grupo de #\n",
        "  numeros_pares = [2, 4, 6, 8, 10, 12, 14, 16, 18, 20, 22, 24, 26, 28, 30, 32, 34, 36]\n",
        "  numeros_impares = [1, 3, 5, 7, 9, 11, 13, 15, 17, 19, 21, 23, 25, 27, 29, 31, 33, 35]\n",
        "  primera_docena = list(range(1, 13))\n",
        "  segunda_docena = list(range(13, 25))\n",
        "  tercera_docena = list(range(25, 37))\n",
        "\n",
        "  # que el usuari ingreasa su # de apuesta\n",
        "  apuesta = int(input(\"Ingrese el número al que desea apostar (0-36) o un grupo (pares, impares, primera docena, segunda docena, tercera docena): \"))\n",
        "\n",
        "  # Generamos un # aleatorio entre 0 y 36\n",
        "  numero_ganador = random.randint(0, 36)\n",
        "\n",
        "  # verificacuin si el usuario a ganado o perdido\n",
        "  if apuesta == numero_ganador:\n",
        "    print(\"¡Felicidades! Has ganado. El número ganador es:\", numero_ganador)\n",
        "  elif apuesta in numeros_pares and numero_ganador in numeros_pares:\n",
        "    print(\"¡Ganaste! Apostaste a pares y salió un número par:\", numero_ganador)\n",
        "  elif apuesta in numeros_impares and numero_ganador in numeros_impares:\n",
        "    print(\"¡Ganaste! Apostaste a impares y salió un número impar:\", numero_ganador)\n",
        "  elif apuesta in primera_docena and numero_ganador in primera_docena:\n",
        "    print(\"¡Ganaste! Apostaste a la primera docena y salió un número de la primera docena:\", numero_ganador)\n",
        "  elif apuesta in segunda_docena and numero_ganador in segunda_docena:\n",
        "    print(\"¡Ganaste! Apostaste a la segunda docena y salió un número de la segunda docena:\", numero_ganador)\n",
        "  elif apuesta in tercera_docena and numero_ganador in tercera_docena:\n",
        "    print(\"¡Ganaste! Apostaste a la tercera docena y salió un número de la tercera docena:\", numero_ganador)\n",
        "  else:\n",
        "    print(\"Lo siento, has perdido. El número ganador es:\", numero_ganador)\n",
        "\n",
        "# Ejecutamos la función\n",
        "simular_ruleta()"
      ],
      "metadata": {
        "id": "izchCcnY98De",
        "outputId": "f3c54285-9ac2-441f-ec7c-00af944402d4",
        "colab": {
          "base_uri": "https://localhost:8080/"
        }
      },
      "execution_count": 18,
      "outputs": [
        {
          "output_type": "stream",
          "name": "stdout",
          "text": [
            "Ingrese el número al que desea apostar (0-36) o un grupo (pares, impares, primera docena, segunda docena, tercera docena): 80\n",
            "Lo siento, has perdido. El número ganador es: 34\n"
          ]
        }
      ]
    }
  ],
  "metadata": {
    "colab": {
      "name": "Te damos la bienvenida a Colaboratory",
      "toc_visible": true,
      "provenance": [],
      "include_colab_link": true
    },
    "kernelspec": {
      "display_name": "Python 3",
      "name": "python3"
    }
  },
  "nbformat": 4,
  "nbformat_minor": 0
}